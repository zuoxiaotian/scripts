{
 "cells": [
  {
   "cell_type": "code",
   "execution_count": null,
   "metadata": {},
   "outputs": [],
   "source": [
    "import time\n",
    "import win32gui, win32ui, win32con, win32api\n",
    "import datetime\n",
    "from playsound import playsound\n",
    "\n",
    "import sys\n",
    "!{sys.executable} -m pip install playsound\n",
    "\n",
    "import cv2\n",
    "import pytesseract\n",
    "import time\n",
    "import win32api\n",
    "import win32con\n",
    "from pytesseract import Output\n",
    "\n",
    "from PIL import Image\n",
    "import sys\n",
    "\n",
    "\n",
    "\n",
    "def window_capture(filename):\n",
    "    hwnd = 0  \n",
    "    hwndDC = win32gui.GetWindowDC(hwnd)\n",
    "    mfcDC = win32ui.CreateDCFromHandle(hwndDC)\n",
    "    saveDC = mfcDC.CreateCompatibleDC()\n",
    "    saveBitMap = win32ui.CreateBitmap()\n",
    "    MoniterDev = win32api.EnumDisplayMonitors(None, None)\n",
    "    w = MoniterDev[0][2][2]\n",
    "    h = MoniterDev[0][2][3]\n",
    "    saveBitMap.CreateCompatibleBitmap(mfcDC, w, h)\n",
    "    saveDC.SelectObject(saveBitMap)\n",
    "    saveDC.BitBlt((300, 0), (int(w / 2) + 300, h), mfcDC, (0, 0), win32con.SRCCOPY)\n",
    "    saveBitMap.SaveBitmapFile(saveDC, filename)\n",
    "\n",
    "pytesseract.pytesseract.tesseract_cmd = r'D:\\\\tools\\\\Tesseract\\\\tesseract.exe'\n"
   ]
  },
  {
   "cell_type": "code",
   "execution_count": null,
   "metadata": {},
   "outputs": [],
   "source": [
    "def get_data(url):\n",
    "    img = cv2.imread(url)\n",
    "    text = pytesseract.image_to_data(img, output_type=Output.DICT)\n",
    "    return text\n",
    "\n",
    "def press(x, y, button=1):\n",
    "    buttonAction = 2 ** ((2 * button) - 1)\n",
    "    win32api.mouse_event(buttonAction, x, y)\n",
    "    \n",
    "def release(x, y, button=1):\n",
    "    buttonAction = 2 ** ((2 * button))\n",
    "    win32api.mouse_event(buttonAction, x, y)\n",
    "import ctypes\n",
    "\n",
    "def move(x, y):\n",
    "    ctypes.windll.user32.SetCursorPos(x, y)\n",
    "    \n",
    "def click(x, y, button=1):\n",
    "    move(x, y)\n",
    "    press(x, y, button)\n",
    "    release(x, y, button)"
   ]
  },
  {
   "cell_type": "code",
   "execution_count": null,
   "metadata": {},
   "outputs": [],
   "source": [
    "def replace(url):\n",
    "\n",
    "    img = Image.open(url)\n",
    "    img0 = img.convert(\"RGB\")\n",
    "\n",
    "    pixdata = img0.load()\n",
    "\n",
    "    # Clean the background noise, if color != white, then set to black.\n",
    "\n",
    "    for y in range(img0.size[1]):\n",
    "        for x in range(img0.size[0]):\n",
    "            a, b, c = pixdata[x, y]\n",
    "\n",
    "            if a == 255 and b == 0 and c == 0:\n",
    "                pixdata[x, y] = (255, 255, 255)\n",
    "            else:\n",
    "                pixdata[x, y] = (0, 0, 0)\n",
    "\n",
    "    img0.save(url)"
   ]
  },
  {
   "cell_type": "code",
   "execution_count": null,
   "metadata": {},
   "outputs": [],
   "source": [
    "def found(s): \n",
    "    for i in \"23456789\":\n",
    "        if i in s:\n",
    "            return True\n",
    "    return False"
   ]
  },
  {
   "cell_type": "code",
   "execution_count": null,
   "metadata": {},
   "outputs": [],
   "source": [
    "def get_status():\n",
    "    url = \"D:\\images\\get.jpg\"\n",
    "    window_capture(url)\n",
    "    replace(url)\n",
    "    s = ''.join([x for x in get_data(url)['text'] if not x == '' and not x == ' '])\n",
    "    return s"
   ]
  },
  {
   "cell_type": "code",
   "execution_count": null,
   "metadata": {},
   "outputs": [],
   "source": [
    "while True:\n",
    "    click(300, 200)\n",
    "    time.sleep(3)\n",
    "    click(300, 800)\n",
    "    time.sleep(3)\n",
    "    if found(get_status()):\n",
    "        playsound('http://img.tukuppt.com/newpreview_music/09/00/47/5c892a30468f811812.mp3')\n",
    "    else:\n",
    "        playsound('http://img.tukuppt.com/newpreview_music/09/00/61/5c893a9e8cafd92214.mp3')\n"
   ]
  }
 ],
 "metadata": {
  "kernelspec": {
   "display_name": "Python 3",
   "language": "python",
   "name": "python3"
  },
  "language_info": {
   "codemirror_mode": {
    "name": "ipython",
    "version": 3
   },
   "file_extension": ".py",
   "mimetype": "text/x-python",
   "name": "python",
   "nbconvert_exporter": "python",
   "pygments_lexer": "ipython3",
   "version": "3.8.3"
  }
 },
 "nbformat": 4,
 "nbformat_minor": 4
}
